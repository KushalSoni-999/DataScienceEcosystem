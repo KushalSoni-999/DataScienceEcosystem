{
  "metadata": {
    "kernelspec": {
      "name": "python",
      "display_name": "Python (Pyodide)",
      "language": "python"
    },
    "language_info": {
      "codemirror_mode": {
        "name": "python",
        "version": 3
      },
      "file_extension": ".py",
      "mimetype": "text/x-python",
      "name": "python",
      "nbconvert_exporter": "python",
      "pygments_lexer": "ipython3",
      "version": "3.8"
    }
  },
  "nbformat_minor": 4,
  "nbformat": 4,
  "cells": [
    {
      "cell_type": "markdown",
      "source": "# Data Science Tools and Ecosystem\n",
      "metadata": {}
    },
    {
      "cell_type": "markdown",
      "source": "__Exercise 3 - Create a markdown cell for an introduction__ <br>\nIn this notebook, Data Science Tools and Ecosystem are summarized.",
      "metadata": {}
    },
    {
      "cell_type": "markdown",
      "source": "__Exercise 4 - Create a markdown cell to list data science languages__ <br>\nSome of the popular languages that Data Scientists use are:\n1. Python\n2. R\n3. Julia\n4. Go\n5. Java",
      "metadata": {}
    },
    {
      "cell_type": "markdown",
      "source": "__Exercise 5 - Create a markdown cell to list data science libraries__ <br>\nSome of the commonly used libraries used by Data Scientists include:\n1. Pandas\n2. Numpy\n3. Matplotlib\n4. Scikit-learn\n5. TensorFlow",
      "metadata": {}
    },
    {
      "cell_type": "markdown",
      "source": "__Exercise 6 - Create a markdown cell with a table of Data Science tools__ <br>\nSome of the commonly used open source data science tools\n| Data Science Tools |\n| ------------------ |\n| Jupyter |\n| Watson Studio |\n| RStudio |",
      "metadata": {}
    },
    {
      "cell_type": "markdown",
      "source": "__Exercise 7 - Create a markdown cell introducing arithmetic expression examples__ <br>\n### Below are a few examples of evaluating arithmetic expressions in Python",
      "metadata": {}
    },
    {
      "cell_type": "markdown",
      "source": "__Exercise 8 - Create a code cell to multiply and add numbers__",
      "metadata": {}
    },
    {
      "cell_type": "code",
      "source": "# This a simple arithmetic expression to mutiply then add integers\n(3*4)+5",
      "metadata": {
        "trusted": true
      },
      "outputs": [
        {
          "execution_count": 1,
          "output_type": "execute_result",
          "data": {
            "text/plain": "17"
          },
          "metadata": {}
        }
      ],
      "execution_count": 1
    },
    {
      "cell_type": "markdown",
      "source": "__Exercise 9 - Create a code cell to convert minutes to hours__",
      "metadata": {}
    },
    {
      "cell_type": "code",
      "source": "#This will convert 200 minutes to hours by diving by 60\n200/60\n",
      "metadata": {
        "trusted": true
      },
      "outputs": [
        {
          "execution_count": 6,
          "output_type": "execute_result",
          "data": {
            "text/plain": "3.3333333333333335"
          },
          "metadata": {}
        }
      ],
      "execution_count": 6
    },
    {
      "cell_type": "markdown",
      "source": "__Exercise 10 - Insert a markdown cell to list Objectives__ <br>",
      "metadata": {}
    },
    {
      "cell_type": "markdown",
      "source": "__Objectives:__\n- List of Popular Languages for Data Science\n- List of Popular libraries for Data Science\n- List of Open Source platforms for Data Science\n- Examples of arithmetic expressions in Python.",
      "metadata": {}
    },
    {
      "cell_type": "markdown",
      "source": "__Exercise 11 - Create a markdown cell to indicate the Author's name__",
      "metadata": {}
    },
    {
      "cell_type": "markdown",
      "source": "## Author\nKushal Soni",
      "metadata": {}
    }
  ]
}